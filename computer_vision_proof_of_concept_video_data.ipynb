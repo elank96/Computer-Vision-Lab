{
  "metadata": {
    "kernelspec": {
      "language": "python",
      "display_name": "Python 3",
      "name": "python3"
    },
    "language_info": {
      "pygments_lexer": "ipython3",
      "nbconvert_exporter": "python",
      "version": "3.6.4",
      "file_extension": ".py",
      "codemirror_mode": {
        "name": "ipython",
        "version": 3
      },
      "name": "python",
      "mimetype": "text/x-python"
    },
    "colab": {
      "provenance": [],
      "include_colab_link": true
    }
  },
  "nbformat_minor": 0,
  "nbformat": 4,
  "cells": [
    {
      "cell_type": "markdown",
      "metadata": {
        "id": "view-in-github",
        "colab_type": "text"
      },
      "source": [
        "<a href=\"https://colab.research.google.com/github/elank96/Computer-Vision-Lab/blob/main/computer_vision_proof_of_concept_video_data.ipynb\" target=\"_parent\"><img src=\"https://colab.research.google.com/assets/colab-badge.svg\" alt=\"Open In Colab\"/></a>"
      ]
    },
    {
      "cell_type": "markdown",
      "source": [
        "# Getting Setup for working with Video in Python\n",
        "Packages you'll need installed:\n",
        "- opencv / cv2 : `pip install opencv-python`\n",
        "- matplotlib : `pip install matplotlib`\n",
        "- ffmpeg (for converting videos)"
      ],
      "metadata": {
        "id": "8cCKqBx3zwJz"
      }
    },
    {
      "cell_type": "code",
      "source": [
        "import pandas as pd\n",
        "import numpy as np\n",
        "import cv2\n",
        "import matplotlib.pyplot as plt\n",
        "\n",
        "from glob import glob\n",
        "\n",
        "import IPython.display as ipd\n",
        "from tqdm import tqdm\n",
        "\n",
        "import subprocess\n",
        "\n",
        "plt.style.use('ggplot')"
      ],
      "metadata": {
        "execution": {
          "iopub.status.busy": "2022-06-02T14:17:36.655607Z",
          "iopub.execute_input": "2022-06-02T14:17:36.656612Z",
          "iopub.status.idle": "2022-06-02T14:17:36.663017Z",
          "shell.execute_reply.started": "2022-06-02T14:17:36.656544Z",
          "shell.execute_reply": "2022-06-02T14:17:36.662029Z"
        },
        "trusted": true,
        "id": "iGPS8GwKzwJ6"
      },
      "execution_count": 1,
      "outputs": []
    },
    {
      "cell_type": "code",
      "source": [
        "!pip install gitpython\n",
        "import git"
      ],
      "metadata": {
        "colab": {
          "base_uri": "https://localhost:8080/"
        },
        "id": "1FYkEjie4RVs",
        "outputId": "1f9230d7-70c5-4e24-8d93-73b8de654783"
      },
      "execution_count": 2,
      "outputs": [
        {
          "output_type": "stream",
          "name": "stdout",
          "text": [
            "Collecting gitpython\n",
            "  Downloading GitPython-3.1.37-py3-none-any.whl (190 kB)\n",
            "\u001b[2K     \u001b[90m━━━━━━━━━━━━━━━━━━━━━━━━━━━━━━━━━━━━━━━\u001b[0m \u001b[32m190.0/190.0 kB\u001b[0m \u001b[31m4.0 MB/s\u001b[0m eta \u001b[36m0:00:00\u001b[0m\n",
            "\u001b[?25hCollecting gitdb<5,>=4.0.1 (from gitpython)\n",
            "  Downloading gitdb-4.0.10-py3-none-any.whl (62 kB)\n",
            "\u001b[2K     \u001b[90m━━━━━━━━━━━━━━━━━━━━━━━━━━━━━━━━━━━━━━━━\u001b[0m \u001b[32m62.7/62.7 kB\u001b[0m \u001b[31m6.9 MB/s\u001b[0m eta \u001b[36m0:00:00\u001b[0m\n",
            "\u001b[?25hCollecting smmap<6,>=3.0.1 (from gitdb<5,>=4.0.1->gitpython)\n",
            "  Downloading smmap-5.0.1-py3-none-any.whl (24 kB)\n",
            "Installing collected packages: smmap, gitdb, gitpython\n",
            "Successfully installed gitdb-4.0.10 gitpython-3.1.37 smmap-5.0.1\n"
          ]
        }
      ]
    },
    {
      "cell_type": "code",
      "source": [
        "!git clone https://<your_personal_access_token>@github.com/elank96/Computer-Vision-Lab.git"
      ],
      "metadata": {
        "id": "Hj6B6cVR0TfU",
        "outputId": "19ae4b48-1a18-43a1-a6e7-556a745df237",
        "colab": {
          "base_uri": "https://localhost:8080/"
        }
      },
      "execution_count": 6,
      "outputs": [
        {
          "output_type": "stream",
          "name": "stdout",
          "text": [
            "Cloning into 'Computer-Vision-Lab'...\n",
            "remote: Enumerating objects: 7, done.\u001b[K\n",
            "remote: Counting objects: 100% (7/7), done.\u001b[K\n",
            "remote: Compressing objects: 100% (5/5), done.\u001b[K\n",
            "remote: Total 7 (delta 0), reused 4 (delta 0), pack-reused 0\u001b[K\n",
            "Receiving objects: 100% (7/7), 9.90 MiB | 15.58 MiB/s, done.\n"
          ]
        }
      ]
    },
    {
      "cell_type": "markdown",
      "source": [
        "# Converting video types\n",
        "Use ffmpeg to convert mov to mp4. Read more in the documentation here: https://ffmpeg.org/ffmpeg.html"
      ],
      "metadata": {
        "id": "8W0rnmLwzwJ9"
      }
    },
    {
      "cell_type": "code",
      "source": [
        "input_file = '../input/driving-video-with-object-tracking/bdd100k_videos_train_00/bdd100k/videos/train/026c7465-309f6d33.mov'\n",
        "subprocess.run(['ffmpeg',\n",
        "                '-i',\n",
        "                input_file,\n",
        "                '-qscale',\n",
        "                '0',\n",
        "                '026c7465-309f6d33.mp4',\n",
        "                '-loglevel',\n",
        "                'quiet']\n",
        "              )"
      ],
      "metadata": {
        "execution": {
          "iopub.status.busy": "2022-06-02T13:40:48.373518Z",
          "iopub.execute_input": "2022-06-02T13:40:48.374339Z",
          "iopub.status.idle": "2022-06-02T13:41:44.455645Z",
          "shell.execute_reply.started": "2022-06-02T13:40:48.374289Z",
          "shell.execute_reply": "2022-06-02T13:41:44.454653Z"
        },
        "trusted": true,
        "id": "_SC2nYmZzwKB"
      },
      "execution_count": null,
      "outputs": []
    },
    {
      "cell_type": "code",
      "source": [
        "!ls -GFlash --color"
      ],
      "metadata": {
        "execution": {
          "iopub.status.busy": "2022-06-02T13:41:44.457484Z",
          "iopub.execute_input": "2022-06-02T13:41:44.458468Z",
          "iopub.status.idle": "2022-06-02T13:41:45.217443Z",
          "shell.execute_reply.started": "2022-06-02T13:41:44.458423Z",
          "shell.execute_reply": "2022-06-02T13:41:45.216093Z"
        },
        "trusted": true,
        "id": "53Zfa3zDzwKE"
      },
      "execution_count": null,
      "outputs": []
    },
    {
      "cell_type": "markdown",
      "source": [
        "# Display Video in Notebook"
      ],
      "metadata": {
        "id": "vqz2dW9PzwKE"
      }
    },
    {
      "cell_type": "code",
      "source": [
        "ipd.Video('026c7465-309f6d33.mp4', width=700)"
      ],
      "metadata": {
        "execution": {
          "iopub.status.busy": "2022-06-02T13:43:28.451019Z",
          "iopub.execute_input": "2022-06-02T13:43:28.451431Z",
          "iopub.status.idle": "2022-06-02T13:43:28.458509Z",
          "shell.execute_reply.started": "2022-06-02T13:43:28.4514Z",
          "shell.execute_reply": "2022-06-02T13:43:28.457777Z"
        },
        "trusted": true,
        "id": "Mhzne4cAzwKF"
      },
      "execution_count": null,
      "outputs": []
    },
    {
      "cell_type": "markdown",
      "source": [
        "# Open the Video and Read Metadata"
      ],
      "metadata": {
        "id": "T9GXfKaZzwKG"
      }
    },
    {
      "cell_type": "code",
      "source": [
        "# Load in video capture\n",
        "cap = cv2.VideoCapture('026c7465-309f6d33.mp4')"
      ],
      "metadata": {
        "execution": {
          "iopub.status.busy": "2022-06-02T13:44:48.175399Z",
          "iopub.execute_input": "2022-06-02T13:44:48.175814Z",
          "iopub.status.idle": "2022-06-02T13:44:48.264173Z",
          "shell.execute_reply.started": "2022-06-02T13:44:48.175781Z",
          "shell.execute_reply": "2022-06-02T13:44:48.263201Z"
        },
        "trusted": true,
        "id": "hOX5gIEazwKH"
      },
      "execution_count": null,
      "outputs": []
    },
    {
      "cell_type": "code",
      "source": [
        "# Total number of frames in video\n",
        "cap.get(cv2.cv2.CAP_PROP_FRAME_COUNT)"
      ],
      "metadata": {
        "execution": {
          "iopub.status.busy": "2022-06-02T13:45:51.486427Z",
          "iopub.execute_input": "2022-06-02T13:45:51.487042Z",
          "iopub.status.idle": "2022-06-02T13:45:51.493754Z",
          "shell.execute_reply.started": "2022-06-02T13:45:51.486994Z",
          "shell.execute_reply": "2022-06-02T13:45:51.493005Z"
        },
        "trusted": true,
        "id": "3ho0mVTJzwKL"
      },
      "execution_count": null,
      "outputs": []
    },
    {
      "cell_type": "code",
      "source": [
        "# Video height and width\n",
        "height = cap.get(cv2.cv2.CAP_PROP_FRAME_HEIGHT)\n",
        "width = cap.get(cv2.cv2.CAP_PROP_FRAME_WIDTH)\n",
        "print(f'Height {height}, Width {width}')"
      ],
      "metadata": {
        "execution": {
          "iopub.status.busy": "2022-06-02T13:47:09.409614Z",
          "iopub.execute_input": "2022-06-02T13:47:09.410029Z",
          "iopub.status.idle": "2022-06-02T13:47:09.416617Z",
          "shell.execute_reply.started": "2022-06-02T13:47:09.409998Z",
          "shell.execute_reply": "2022-06-02T13:47:09.415417Z"
        },
        "trusted": true,
        "id": "AjFZQICEzwKM"
      },
      "execution_count": null,
      "outputs": []
    },
    {
      "cell_type": "code",
      "source": [
        "# Get frames per second\n",
        "fps = cap.get(cv2.cv2.CAP_PROP_FPS)\n",
        "print(f'FPS : {fps:0.2f}')"
      ],
      "metadata": {
        "execution": {
          "iopub.status.busy": "2022-06-02T13:47:58.983909Z",
          "iopub.execute_input": "2022-06-02T13:47:58.984326Z",
          "iopub.status.idle": "2022-06-02T13:47:58.990273Z",
          "shell.execute_reply.started": "2022-06-02T13:47:58.984294Z",
          "shell.execute_reply": "2022-06-02T13:47:58.989195Z"
        },
        "trusted": true,
        "id": "CPuOMwNYzwKN"
      },
      "execution_count": null,
      "outputs": []
    },
    {
      "cell_type": "code",
      "source": [
        "cap.release()"
      ],
      "metadata": {
        "execution": {
          "iopub.status.busy": "2022-06-02T13:48:34.882819Z",
          "iopub.execute_input": "2022-06-02T13:48:34.883238Z",
          "iopub.status.idle": "2022-06-02T13:48:34.888053Z",
          "shell.execute_reply.started": "2022-06-02T13:48:34.883205Z",
          "shell.execute_reply": "2022-06-02T13:48:34.887166Z"
        },
        "trusted": true,
        "id": "BBnH701dzwKP"
      },
      "execution_count": null,
      "outputs": []
    },
    {
      "cell_type": "markdown",
      "source": [
        "# Pulling in Images from Video"
      ],
      "metadata": {
        "id": "7bHx8O-qzwKQ"
      }
    },
    {
      "cell_type": "code",
      "source": [
        "cap = cv2.VideoCapture('026c7465-309f6d33.mp4')\n",
        "ret, img = cap.read()\n",
        "print(f'Returned {ret} and img of shape {img.shape}')"
      ],
      "metadata": {
        "execution": {
          "iopub.status.busy": "2022-06-02T13:49:54.044264Z",
          "iopub.execute_input": "2022-06-02T13:49:54.044819Z",
          "iopub.status.idle": "2022-06-02T13:49:54.08977Z",
          "shell.execute_reply.started": "2022-06-02T13:49:54.044772Z",
          "shell.execute_reply": "2022-06-02T13:49:54.088685Z"
        },
        "trusted": true,
        "id": "7b5Dd89lzwKV"
      },
      "execution_count": null,
      "outputs": []
    },
    {
      "cell_type": "code",
      "source": [
        "## Helper function for plotting opencv images in notebook\n",
        "def display_cv2_img(img, figsize=(10, 10)):\n",
        "    img_ = cv2.cvtColor(img, cv2.COLOR_BGR2RGB)\n",
        "    fig, ax = plt.subplots(figsize=figsize)\n",
        "    ax.imshow(img_)\n",
        "    ax.axis(\"off\")"
      ],
      "metadata": {
        "execution": {
          "iopub.status.busy": "2022-06-02T13:51:48.390499Z",
          "iopub.execute_input": "2022-06-02T13:51:48.391028Z",
          "iopub.status.idle": "2022-06-02T13:51:48.397615Z",
          "shell.execute_reply.started": "2022-06-02T13:51:48.390988Z",
          "shell.execute_reply": "2022-06-02T13:51:48.396801Z"
        },
        "trusted": true,
        "id": "BZHs_whozwKW"
      },
      "execution_count": null,
      "outputs": []
    },
    {
      "cell_type": "code",
      "source": [
        "display_cv2_img(img)"
      ],
      "metadata": {
        "execution": {
          "iopub.status.busy": "2022-06-02T13:51:54.069651Z",
          "iopub.execute_input": "2022-06-02T13:51:54.070931Z",
          "iopub.status.idle": "2022-06-02T13:51:54.423318Z",
          "shell.execute_reply.started": "2022-06-02T13:51:54.070883Z",
          "shell.execute_reply": "2022-06-02T13:51:54.419657Z"
        },
        "trusted": true,
        "id": "deCKqmyAzwKX"
      },
      "execution_count": null,
      "outputs": []
    },
    {
      "cell_type": "code",
      "source": [
        "cap.release()"
      ],
      "metadata": {
        "execution": {
          "iopub.status.busy": "2022-06-02T13:52:27.575828Z",
          "iopub.execute_input": "2022-06-02T13:52:27.576764Z",
          "iopub.status.idle": "2022-06-02T13:52:27.581819Z",
          "shell.execute_reply.started": "2022-06-02T13:52:27.576715Z",
          "shell.execute_reply": "2022-06-02T13:52:27.580926Z"
        },
        "trusted": true,
        "id": "boyW6ECBzwKZ"
      },
      "execution_count": null,
      "outputs": []
    },
    {
      "cell_type": "markdown",
      "source": [
        "# Display multiple frames from the video"
      ],
      "metadata": {
        "id": "P8hWlor0zwKb"
      }
    },
    {
      "cell_type": "code",
      "source": [
        "fig, axs = plt.subplots(5, 5, figsize=(30, 20))\n",
        "axs = axs.flatten()\n",
        "\n",
        "cap = cv2.VideoCapture(\"026c7465-309f6d33.mp4\")\n",
        "n_frames = int(cap.get(cv2.cv2.CAP_PROP_FRAME_COUNT))\n",
        "\n",
        "img_idx = 0\n",
        "for frame in range(n_frames):\n",
        "    ret, img = cap.read()\n",
        "    if ret == False:\n",
        "        break\n",
        "    if frame % 100 == 0:\n",
        "        axs[img_idx].imshow(cv2.cvtColor(img, cv2.COLOR_BGR2RGB))\n",
        "        axs[img_idx].set_title(f'Frame: {frame}')\n",
        "        axs[img_idx].axis('off')\n",
        "        img_idx += 1\n",
        "\n",
        "plt.tight_layout()\n",
        "plt.show()\n",
        "cap.release()"
      ],
      "metadata": {
        "execution": {
          "iopub.status.busy": "2022-06-02T13:57:58.643124Z",
          "iopub.execute_input": "2022-06-02T13:57:58.643556Z",
          "iopub.status.idle": "2022-06-02T13:58:09.908594Z",
          "shell.execute_reply.started": "2022-06-02T13:57:58.643525Z",
          "shell.execute_reply": "2022-06-02T13:58:09.907793Z"
        },
        "trusted": true,
        "id": "T2IbjmL2zwKc"
      },
      "execution_count": null,
      "outputs": []
    },
    {
      "cell_type": "markdown",
      "source": [
        "# Add Annotations to Video Images"
      ],
      "metadata": {
        "id": "T6jRDgAYzwKf"
      }
    },
    {
      "cell_type": "code",
      "source": [
        "labels = pd.read_csv('../input/driving-video-with-object-tracking/mot_labels.csv',\n",
        "                     low_memory=False)\n",
        "video_labels = (\n",
        "    labels.query('videoName == \"026c7465-309f6d33\"').reset_index(drop=True).copy()\n",
        ")\n",
        "video_labels[\"video_frame\"] = (video_labels[\"frameIndex\"] * 11.9).round().astype(\"int\")"
      ],
      "metadata": {
        "execution": {
          "iopub.status.busy": "2022-06-02T14:00:26.226785Z",
          "iopub.execute_input": "2022-06-02T14:00:26.227231Z",
          "iopub.status.idle": "2022-06-02T14:00:33.604542Z",
          "shell.execute_reply.started": "2022-06-02T14:00:26.227185Z",
          "shell.execute_reply": "2022-06-02T14:00:33.603452Z"
        },
        "trusted": true,
        "id": "5m9KGeldzwKg"
      },
      "execution_count": null,
      "outputs": []
    },
    {
      "cell_type": "code",
      "source": [
        "video_labels[\"category\"].value_counts()"
      ],
      "metadata": {
        "execution": {
          "iopub.status.busy": "2022-06-02T14:03:13.347747Z",
          "iopub.execute_input": "2022-06-02T14:03:13.348174Z",
          "iopub.status.idle": "2022-06-02T14:03:13.358329Z",
          "shell.execute_reply.started": "2022-06-02T14:03:13.34814Z",
          "shell.execute_reply": "2022-06-02T14:03:13.357123Z"
        },
        "trusted": true,
        "id": "Y9ahmOglzwKi"
      },
      "execution_count": null,
      "outputs": []
    },
    {
      "cell_type": "code",
      "source": [
        "# Pull frame 1035\n",
        "\n",
        "cap = cv2.VideoCapture(\"026c7465-309f6d33.mp4\")\n",
        "n_frames = int(cap.get(cv2.cv2.CAP_PROP_FRAME_COUNT))\n",
        "\n",
        "img_idx = 0\n",
        "for frame in range(n_frames):\n",
        "    ret, img = cap.read()\n",
        "    if ret == False:\n",
        "        break\n",
        "    if frame == 1035:\n",
        "        break\n",
        "cap.release()"
      ],
      "metadata": {
        "execution": {
          "iopub.status.busy": "2022-06-02T14:09:16.867054Z",
          "iopub.execute_input": "2022-06-02T14:09:16.867522Z",
          "iopub.status.idle": "2022-06-02T14:09:19.721372Z",
          "shell.execute_reply.started": "2022-06-02T14:09:16.867489Z",
          "shell.execute_reply": "2022-06-02T14:09:19.720403Z"
        },
        "trusted": true,
        "id": "YTpJKtkNzwKk"
      },
      "execution_count": null,
      "outputs": []
    },
    {
      "cell_type": "code",
      "source": [
        "display_cv2_img(img)"
      ],
      "metadata": {
        "execution": {
          "iopub.status.busy": "2022-06-02T14:09:19.723381Z",
          "iopub.execute_input": "2022-06-02T14:09:19.723855Z",
          "iopub.status.idle": "2022-06-02T14:09:20.027205Z",
          "shell.execute_reply.started": "2022-06-02T14:09:19.723809Z",
          "shell.execute_reply": "2022-06-02T14:09:20.024833Z"
        },
        "trusted": true,
        "id": "QUaPH2KyzwKl"
      },
      "execution_count": null,
      "outputs": []
    },
    {
      "cell_type": "code",
      "source": [
        "img_example = img.copy()\n",
        "frame_labels = video_labels.query('video_frame == 1035')\n",
        "for i, d in frame_labels.iterrows():\n",
        "    pt1 = int(d['box2d.x1']), int(d['box2d.y1'])\n",
        "    pt2 = int(d['box2d.x2']), int(d['box2d.y2'])\n",
        "    cv2.rectangle(img_example, pt1, pt2, (0, 0, 255), 3)\n",
        "\n",
        "display_cv2_img(img_example)"
      ],
      "metadata": {
        "execution": {
          "iopub.status.busy": "2022-06-02T14:09:20.028762Z",
          "iopub.execute_input": "2022-06-02T14:09:20.02982Z",
          "iopub.status.idle": "2022-06-02T14:09:20.359391Z",
          "shell.execute_reply.started": "2022-06-02T14:09:20.029778Z",
          "shell.execute_reply": "2022-06-02T14:09:20.35854Z"
        },
        "trusted": true,
        "id": "GS7xI3xuzwKm"
      },
      "execution_count": null,
      "outputs": []
    },
    {
      "cell_type": "markdown",
      "source": [
        "# Displaying Colored by Category"
      ],
      "metadata": {
        "id": "LqQmt_NEzwKn"
      }
    },
    {
      "cell_type": "code",
      "source": [
        "color_map = {\n",
        "    \"car\": (0, 0, 255),\n",
        "    \"truck\": (0, 0, 100),\n",
        "    \"pedestrian\": (255, 0, 0),\n",
        "    \"other vehicle\": (0, 0, 150),\n",
        "    \"rider\": (200, 0, 0),\n",
        "    \"bicycle\": (0, 255, 0),\n",
        "    \"other person\": (200, 0, 0),\n",
        "    \"trailer\": (0, 150, 150),\n",
        "    \"motorcycle\": (0, 150, 0),\n",
        "    \"bus\": (0, 0, 100),\n",
        "}\n",
        "\n",
        "img_example = img.copy()\n",
        "frame_labels = video_labels.query('video_frame == 1035')\n",
        "for i, d in frame_labels.iterrows():\n",
        "    pt1 = int(d['box2d.x1']), int(d['box2d.y1'])\n",
        "    pt2 = int(d['box2d.x2']), int(d['box2d.y2'])\n",
        "    color = color_map[d['category']]\n",
        "    cv2.rectangle(img_example, pt1, pt2, color, 3)\n",
        "\n",
        "display_cv2_img(img_example)"
      ],
      "metadata": {
        "execution": {
          "iopub.status.busy": "2022-06-02T14:10:15.550438Z",
          "iopub.execute_input": "2022-06-02T14:10:15.551718Z",
          "iopub.status.idle": "2022-06-02T14:10:15.889324Z",
          "shell.execute_reply.started": "2022-06-02T14:10:15.55166Z",
          "shell.execute_reply": "2022-06-02T14:10:15.885822Z"
        },
        "trusted": true,
        "id": "OvM3fe99zwKr"
      },
      "execution_count": null,
      "outputs": []
    },
    {
      "cell_type": "markdown",
      "source": [
        "## Adding Text"
      ],
      "metadata": {
        "id": "-_Td5BirzwKx"
      }
    },
    {
      "cell_type": "code",
      "source": [
        "frame_labels = video_labels.query(\"video_frame == @frame\")\n",
        "font = cv2.FONT_HERSHEY_TRIPLEX\n",
        "img_example = img.copy()\n",
        "for i, d in frame_labels.iterrows():\n",
        "    pt1 = int(d[\"box2d.x1\"]), int(d[\"box2d.y1\"])\n",
        "    pt2 = int(d[\"box2d.x2\"]), int(d[\"box2d.y2\"])\n",
        "    color = color_map[d[\"category\"]]\n",
        "    img_example = cv2.rectangle(img_example, pt1, pt2, color, 3)\n",
        "    pt_text = int(d[\"box2d.x1\"]) + 5, int(d[\"box2d.y1\"] + 10)\n",
        "    img_example = cv2.putText(img_example, d[\"category\"], pt_text, font, 0.5, color)\n",
        "display_cv2_img(img_example)\n",
        "cap.release()"
      ],
      "metadata": {
        "execution": {
          "iopub.status.busy": "2022-06-02T14:13:42.800459Z",
          "iopub.execute_input": "2022-06-02T14:13:42.800905Z",
          "iopub.status.idle": "2022-06-02T14:13:43.142536Z",
          "shell.execute_reply.started": "2022-06-02T14:13:42.80087Z",
          "shell.execute_reply": "2022-06-02T14:13:43.141609Z"
        },
        "trusted": true,
        "id": "GrZprhVrzwKz"
      },
      "execution_count": null,
      "outputs": []
    },
    {
      "cell_type": "markdown",
      "source": [
        "# Label and output Annotated Video"
      ],
      "metadata": {
        "id": "g-N13-4KzwK3"
      }
    },
    {
      "cell_type": "code",
      "source": [
        "def add_annotations(img, frame, video_labels):\n",
        "    max_frame = video_labels.query(\"video_frame <= @frame\")[\"video_frame\"].max()\n",
        "    frame_labels = video_labels.query(\"video_frame == @max_frame\")\n",
        "    for i, d in frame_labels.iterrows():\n",
        "        pt1 = int(d[\"box2d.x1\"]), int(d[\"box2d.y1\"])\n",
        "        pt2 = int(d[\"box2d.x2\"]), int(d[\"box2d.y2\"])\n",
        "        color = color_map[d[\"category\"]]\n",
        "        img = cv2.rectangle(img, pt1, pt2, color, 3)\n",
        "    return img"
      ],
      "metadata": {
        "execution": {
          "iopub.status.busy": "2022-06-02T14:13:30.680931Z",
          "iopub.execute_input": "2022-06-02T14:13:30.681421Z",
          "iopub.status.idle": "2022-06-02T14:13:30.68983Z",
          "shell.execute_reply.started": "2022-06-02T14:13:30.681385Z",
          "shell.execute_reply": "2022-06-02T14:13:30.688731Z"
        },
        "trusted": true,
        "id": "XM2U9_x6zwK5"
      },
      "execution_count": null,
      "outputs": []
    },
    {
      "cell_type": "code",
      "source": [
        "!rm -r out_test.mp4"
      ],
      "metadata": {
        "execution": {
          "iopub.status.busy": "2022-06-02T14:18:19.515496Z",
          "iopub.execute_input": "2022-06-02T14:18:19.515942Z",
          "iopub.status.idle": "2022-06-02T14:18:20.297962Z",
          "shell.execute_reply.started": "2022-06-02T14:18:19.515909Z",
          "shell.execute_reply": "2022-06-02T14:18:20.296519Z"
        },
        "trusted": true,
        "id": "iNeIeWj0zwK8"
      },
      "execution_count": null,
      "outputs": []
    },
    {
      "cell_type": "code",
      "source": [
        "VIDEO_CODEC = \"mp4v\"\n",
        "fps = 59.94\n",
        "width = 1280\n",
        "height = 720\n",
        "out = cv2.VideoWriter(\"out_test.mp4\",\n",
        "                cv2.VideoWriter_fourcc(*VIDEO_CODEC),\n",
        "                fps,\n",
        "                (width, height))\n",
        "\n",
        "cap = cv2.VideoCapture(\"026c7465-309f6d33.mp4\")\n",
        "n_frames = int(cap.get(cv2.cv2.CAP_PROP_FRAME_COUNT))\n",
        "\n",
        "for frame in tqdm(range(n_frames), total=n_frames):\n",
        "    ret, img = cap.read()\n",
        "    if ret == False:\n",
        "        break\n",
        "    img = add_annotations(img, frame, video_labels)\n",
        "    out.write(img)\n",
        "out.release()\n",
        "cap.release()"
      ],
      "metadata": {
        "execution": {
          "iopub.status.busy": "2022-06-02T14:18:49.211621Z",
          "iopub.execute_input": "2022-06-02T14:18:49.212026Z",
          "iopub.status.idle": "2022-06-02T14:19:34.82404Z",
          "shell.execute_reply.started": "2022-06-02T14:18:49.211995Z",
          "shell.execute_reply": "2022-06-02T14:19:34.8229Z"
        },
        "trusted": true,
        "id": "4UCHN260zwK9"
      },
      "execution_count": null,
      "outputs": []
    },
    {
      "cell_type": "code",
      "source": [
        "!ls -GFlash -color"
      ],
      "metadata": {
        "execution": {
          "iopub.status.busy": "2022-06-02T14:19:46.693654Z",
          "iopub.execute_input": "2022-06-02T14:19:46.694088Z",
          "iopub.status.idle": "2022-06-02T14:19:47.474181Z",
          "shell.execute_reply.started": "2022-06-02T14:19:46.694056Z",
          "shell.execute_reply": "2022-06-02T14:19:47.472704Z"
        },
        "trusted": true,
        "id": "trIe9C9GzwLA"
      },
      "execution_count": null,
      "outputs": []
    },
    {
      "cell_type": "markdown",
      "source": [
        "# Convert our labeled output to mp4 and view"
      ],
      "metadata": {
        "id": "apNDShpIzwLC"
      }
    },
    {
      "cell_type": "code",
      "source": [
        "tmp_output_path = \"out_test.mp4\"\n",
        "output_path = \"out_test_compressed.mp4\"\n",
        "subprocess.run(\n",
        "    [\n",
        "        \"ffmpeg\",\n",
        "        \"-i\",\n",
        "        tmp_output_path,\n",
        "        \"-crf\",\n",
        "        \"18\",\n",
        "        \"-preset\",\n",
        "        \"veryfast\",\n",
        "        \"-vcodec\",\n",
        "        \"libx264\",\n",
        "        output_path,\n",
        "        '-loglevel',\n",
        "        'quiet'\n",
        "    ]\n",
        ")"
      ],
      "metadata": {
        "execution": {
          "iopub.status.busy": "2022-06-02T14:21:42.03209Z",
          "iopub.execute_input": "2022-06-02T14:21:42.032881Z",
          "iopub.status.idle": "2022-06-02T14:22:05.704886Z",
          "shell.execute_reply.started": "2022-06-02T14:21:42.032816Z",
          "shell.execute_reply": "2022-06-02T14:22:05.703647Z"
        },
        "trusted": true,
        "id": "9y5tV97uzwLF"
      },
      "execution_count": null,
      "outputs": []
    },
    {
      "cell_type": "code",
      "source": [
        "!ls -GFlash --color"
      ],
      "metadata": {
        "execution": {
          "iopub.status.busy": "2022-06-02T14:22:27.215523Z",
          "iopub.execute_input": "2022-06-02T14:22:27.216478Z",
          "iopub.status.idle": "2022-06-02T14:22:28.000404Z",
          "shell.execute_reply.started": "2022-06-02T14:22:27.21643Z",
          "shell.execute_reply": "2022-06-02T14:22:27.999071Z"
        },
        "trusted": true,
        "id": "Ps2XqavVzwLG"
      },
      "execution_count": null,
      "outputs": []
    },
    {
      "cell_type": "code",
      "source": [
        "ipd.Video('out_test_compressed.mp4', width=600)"
      ],
      "metadata": {
        "execution": {
          "iopub.status.busy": "2022-06-02T14:22:46.916259Z",
          "iopub.execute_input": "2022-06-02T14:22:46.917125Z",
          "iopub.status.idle": "2022-06-02T14:22:46.922827Z",
          "shell.execute_reply.started": "2022-06-02T14:22:46.917089Z",
          "shell.execute_reply": "2022-06-02T14:22:46.921924Z"
        },
        "trusted": true,
        "id": "OPAdezYpzwLH"
      },
      "execution_count": null,
      "outputs": []
    }
  ]
}